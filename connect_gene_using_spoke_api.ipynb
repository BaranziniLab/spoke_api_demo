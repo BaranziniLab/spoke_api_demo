{
 "cells": [
  {
   "cell_type": "markdown",
   "id": "18b063d1",
   "metadata": {},
   "source": [
    "## Click the badge below to run it in binder"
   ]
  },
  {
   "cell_type": "markdown",
   "id": "00df33b8",
   "metadata": {},
   "source": [
    "[![Binder](https://mybinder.org/badge_logo.svg)](https://mybinder.org/v2/gh/BaranziniLab/spoke_api_demo/main?labpath=connect_gene_using_spoke_api.ipynb)\n"
   ]
  },
  {
   "cell_type": "code",
   "execution_count": null,
   "id": "e4e6d941",
   "metadata": {},
   "outputs": [],
   "source": [
    "import requests\n",
    "import pandas as pd\n"
   ]
  },
  {
   "cell_type": "markdown",
   "id": "e23ac061",
   "metadata": {},
   "source": [
    "## Custom functions for API call"
   ]
  },
  {
   "cell_type": "code",
   "execution_count": 2,
   "id": "1caa09b4",
   "metadata": {},
   "outputs": [],
   "source": [
    "def get_api_resp(END_POINT, params=None):\n",
    "    URI = BASE_URI + END_POINT\n",
    "    if params:\n",
    "        return requests.get(URI, params=params)\n",
    "    else:\n",
    "        return requests.get(URI)\n",
    "    \n",
    "    \n",
    "\n",
    "def get_phenotype_nbrs(gene_name, params=None):\n",
    "    END_POINT = '{}/{}/{}/{}'.format(NBR_END_POINT, NODE_TYPE, ATTRIBUTE, gene_name)\n",
    "    result = get_api_resp(END_POINT, params=params)\n",
    "    neighbors = result.json()\n",
    "    disease_nbr_names = list(filter(None, list(map(lambda x:x['data']['properties']['name'] if x['data']['neo4j_type'] == 'Disease' else None, neighbors))))\n",
    "    symptom_nbr_names = list(filter(None, list(map(lambda x:x['data']['properties']['name'] if x['data']['neo4j_type'] == 'Symptom' else None, neighbors))))\n",
    "    phenotype_names = disease_nbr_names +  symptom_nbr_names\n",
    "\n",
    "    disease_nbr_ids = list(filter(None, list(map(lambda x:x['data']['id'] if x['data']['neo4j_type'] == 'Disease' else None, neighbors))))\n",
    "    symptom_nbr_ids = list(filter(None, list(map(lambda x:x['data']['id'] if x['data']['neo4j_type'] == 'Symptom' else None, neighbors))))\n",
    "    phenotype_ids = disease_nbr_ids + symptom_nbr_ids\n",
    "\n",
    "    phenotype_df = pd.DataFrame(zip(phenotype_ids, phenotype_names), columns=['phenotype_id', 'phenotype_name'])\n",
    "\n",
    "    nbr_edge_list = []\n",
    "    for item in neighbors:\n",
    "        try:\n",
    "            if (item['data']['source'] in phenotype_ids): \n",
    "                nbr_edge_list.append((item['data']['source'], item['data']['properties']))\n",
    "            elif (item['data']['target'] in phenotype_ids):\n",
    "                nbr_edge_list.append((item['data']['target'], item['data']['properties']))\n",
    "        except:\n",
    "            continue\n",
    "\n",
    "    nbr_edge_df = pd.DataFrame(nbr_edge_list, columns=['phenotype_id', 'properties'])\n",
    "    phenotype_nbr_df = pd.merge(phenotype_df, nbr_edge_df, on='phenotype_id').drop('phenotype_id', axis=1)\n",
    "    return list(phenotype_nbr_df.to_records(index=False))\n"
   ]
  },
  {
   "cell_type": "markdown",
   "id": "a5d3229c",
   "metadata": {},
   "source": [
    "## API parameters"
   ]
  },
  {
   "cell_type": "code",
   "execution_count": 3,
   "id": "d4bba595",
   "metadata": {},
   "outputs": [],
   "source": [
    "BASE_URI = 'https://spoke.rbvi.ucsf.edu'\n",
    "NBR_END_POINT = '/api/v1/neighborhood/'\n",
    "\n",
    "\n",
    "API_PARAMS = {\n",
    "    'cutoff_DaG_diseases_sources': ['knowledge', 'experiments', 'textmining'],\n",
    "    'cutoff_DaG_textmining': 3,\n",
    "}\n",
    "\n",
    "NODE_TYPE = 'Gene'\n",
    "ATTRIBUTE = 'name'\n",
    "\n"
   ]
  },
  {
   "cell_type": "markdown",
   "id": "0421f96a",
   "metadata": {},
   "source": [
    "## Input Gene name to get the corresponding associated phenotype\n"
   ]
  },
  {
   "cell_type": "code",
   "execution_count": 6,
   "id": "98e29798",
   "metadata": {},
   "outputs": [
    {
     "name": "stdout",
     "output_type": "stream",
     "text": [
      "CPU times: user 36.2 ms, sys: 7.91 ms, total: 44.1 ms\n",
      "Wall time: 168 ms\n"
     ]
    }
   ],
   "source": [
    "%%time\n",
    "\n",
    "gene_name = 'hello'\n",
    "\n",
    "phenotype_nbrs = get_phenotype_nbrs(gene_name, params=API_PARAMS)\n",
    "\n"
   ]
  },
  {
   "cell_type": "markdown",
   "id": "548ce4e4",
   "metadata": {},
   "source": [
    "## Printing the extracted neighbors as Markdown"
   ]
  },
  {
   "cell_type": "code",
   "execution_count": 14,
   "id": "3cb8e4b1",
   "metadata": {},
   "outputs": [
    {
     "data": {
      "text/markdown": [
       "### Selected Gene name not found in SPOKE graph!\n",
       "### Either there will be a typo in the given Gene name or the Gene has a different name in SPOKE"
      ],
      "text/plain": [
       "<IPython.core.display.Markdown object>"
      ]
     },
     "metadata": {},
     "output_type": "display_data"
    }
   ],
   "source": [
    "if len(phenotype_nbrs) > 0:\n",
    "    markdown_output = \"### Phenotypes associated with the gene {} in SPOKE:\\n\\n\".format(gene_name)\n",
    "    for idx, (phenotype, data) in enumerate(phenotype_nbrs, start=1):\n",
    "        markdown_output += f\"{idx}. **{phenotype}**\\n\"\n",
    "        for key, value in data.items():\n",
    "            if isinstance(value, list):\n",
    "                value = ', '.join(map(str, value))\n",
    "                markdown_output += f\"   - {key.capitalize()}: {value}\\n\"\n",
    "            else:\n",
    "                markdown_output += f\"   - {key.capitalize()}: {value}\\n\"\n",
    "        markdown_output += \"\\n\"\n",
    "else:\n",
    "    markdown_output = \"### Selected Gene name not found in SPOKE graph!\\n\"\n",
    "    markdown_output += \"### Either there will be a typo in the given Gene name or the Gene has a different name in SPOKE\"\n",
    "\n",
    "from IPython.display import Markdown\n",
    "display(Markdown(markdown_output))\n"
   ]
  },
  {
   "cell_type": "code",
   "execution_count": null,
   "id": "1263fb24",
   "metadata": {},
   "outputs": [],
   "source": []
  }
 ],
 "metadata": {
  "kernelspec": {
   "display_name": "Python 3 (ipykernel)",
   "language": "python",
   "name": "python3"
  },
  "language_info": {
   "codemirror_mode": {
    "name": "ipython",
    "version": 3
   },
   "file_extension": ".py",
   "mimetype": "text/x-python",
   "name": "python",
   "nbconvert_exporter": "python",
   "pygments_lexer": "ipython3",
   "version": "3.10.9"
  }
 },
 "nbformat": 4,
 "nbformat_minor": 5
}
