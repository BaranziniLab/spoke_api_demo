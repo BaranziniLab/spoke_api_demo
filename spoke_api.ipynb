{
 "cells": [
  {
   "cell_type": "code",
   "execution_count": 6,
   "id": "045b8403",
   "metadata": {},
   "outputs": [],
   "source": [
    "import requests\n",
    "from math import floor"
   ]
  },
  {
   "cell_type": "code",
   "execution_count": 7,
   "id": "8b9412c1",
   "metadata": {},
   "outputs": [],
   "source": [
    "BASE_URI = \"https://spoke.rbvi.ucsf.edu\"\n"
   ]
  },
  {
   "cell_type": "code",
   "execution_count": 8,
   "id": "5be5dd58",
   "metadata": {},
   "outputs": [],
   "source": [
    "def get_api_resp(END_POINT, params=None):\n",
    "    URI = BASE_URI + END_POINT\n",
    "    if params:\n",
    "        return requests.get(URI, params=params)\n",
    "    else:\n",
    "        return requests.get(URI)"
   ]
  },
  {
   "cell_type": "markdown",
   "id": "5add67ef",
   "metadata": {},
   "source": [
    "# Metagraph of SPOKE"
   ]
  },
  {
   "cell_type": "code",
   "execution_count": 9,
   "id": "18de4947",
   "metadata": {},
   "outputs": [
    {
     "name": "stdout",
     "output_type": "stream",
     "text": [
      "[{'data': {'id': -30, 'name': 'AnatomyCellType'}}, {'data': {'id': -37, 'name': 'Organism'}}, {'data': {'id': -42, 'name': 'ProteinFamily'}}, {'data': {'id': -23, 'name': 'Disease'}}, {'data': {'id': -38, 'name': 'Pathway'}}, {'data': {'id': -39, 'name': 'PharmacologicClass'}}, {'data': {'id': -33, 'name': 'CellularComponent'}}, {'data': {'id': -29, 'name': 'Compound'}}, {'data': {'id': -25, 'name': 'Anatomy'}}, {'data': {'id': -43, 'name': 'Reaction'}}, {'data': {'id': -31, 'name': 'BiologicalProcess'}}, {'data': {'id': -40, 'name': 'Protein'}}, {'data': {'id': -34, 'name': 'Gene'}}, {'data': {'id': -32, 'name': 'CellType'}}, {'data': {'id': -41, 'name': 'ProteinDomain'}}, {'data': {'id': -24, 'name': 'DatabaseTimestamp'}}, {'data': {'id': -36, 'name': 'Nutrient'}}, {'data': {'id': -27, 'name': 'Symptom'}}, {'data': {'id': -26, 'name': 'EC'}}, {'data': {'id': -35, 'name': 'MolecularFunction'}}, {'data': {'id': -28, 'name': 'Food'}}, {'data': {'id': -44, 'name': 'SideEffect'}}, {'data': {'id': -69, 'name': 'CAUSES_CcSE', 'source': -29, 'target': -44}}, {'data': {'id': -57, 'name': 'ISA_ECiEC', 'source': -26, 'target': -26}}, {'data': {'id': -76, 'name': 'DOWNREGULATES_CdG', 'source': -29, 'target': -34}}, {'data': {'id': -79, 'name': 'UPREGULATES_GPuG', 'source': -34, 'target': -34}}, {'data': {'id': -101, 'name': 'ISIN_ACTiiA', 'source': -30, 'target': -25}}, {'data': {'id': -71, 'name': 'PARTICIPATES_GpMF', 'source': -34, 'target': -35}}, {'data': {'id': -61, 'name': 'TREATS_CtD', 'source': -29, 'target': -23}}, {'data': {'id': -89, 'name': 'HAS_PhEC', 'source': -40, 'target': -26}}, {'data': {'id': -55, 'name': 'ISA_AiA', 'source': -25, 'target': -25}}, {'data': {'id': -60, 'name': 'AFFECTS_CamG', 'source': -29, 'target': -34}}, {'data': {'id': -75, 'name': 'DOWNREGULATES_AdG', 'source': -25, 'target': -34}}, {'data': {'id': -104, 'name': 'INCLUDES_PCiC', 'source': -39, 'target': -29}}, {'data': {'id': -98, 'name': 'PARTOF_PDpP', 'source': -41, 'target': -40}}, {'data': {'id': -58, 'name': 'ISA_OiO', 'source': -37, 'target': -37}}, {'data': {'id': -78, 'name': 'DOWNREGULATES_GPdG', 'source': -34, 'target': -34}}, {'data': {'id': -91, 'name': 'CATALYZES_ECcR', 'source': -26, 'target': -43}}, {'data': {'id': -65, 'name': 'PRESENTS_DpS', 'source': -23, 'target': -27}}, {'data': {'id': -100, 'name': 'BINDS_CbPD', 'source': -29, 'target': -41}}, {'data': {'id': -90, 'name': 'INTERACTS_PiP', 'source': -40, 'target': -40}}, {'data': {'id': -73, 'name': 'EXPRESSES_AeG', 'source': -25, 'target': -34}}, {'data': {'id': -92, 'name': 'TRANSPORTS_PtC', 'source': -40, 'target': -29}}, {'data': {'id': -85, 'name': 'INCREASEDIN_PiD', 'source': -40, 'target': -23}}, {'data': {'id': -70, 'name': 'PARTICIPATES_GpBP', 'source': -34, 'target': -31}}, {'data': {'id': -84, 'name': 'CAUSES_OcD', 'source': -37, 'target': -23}}, {'data': {'id': -59, 'name': 'ISA_PWiPW', 'source': -38, 'target': -38}}, {'data': {'id': -67, 'name': 'ASSOCIATES_DaG', 'source': -23, 'target': -34}}, {'data': {'id': -99, 'name': 'INTERACTS_PDiPD', 'source': -41, 'target': -41}}, {'data': {'id': -56, 'name': 'PARTOF_ApA', 'source': -25, 'target': -25}}, {'data': {'id': -95, 'name': 'CLEAVESTO_PctP', 'source': -40, 'target': -40}}, {'data': {'id': -102, 'name': 'ISIN_ACTiiCT', 'source': -30, 'target': -32}}, {'data': {'id': -72, 'name': 'PARTICIPATES_GpCC', 'source': -34, 'target': -33}}, {'data': {'id': -82, 'name': 'DOWNREGULATES_KGdG', 'source': -34, 'target': -34}}, {'data': {'id': -88, 'name': 'ENCODES_OeP', 'source': -37, 'target': -40}}, {'data': {'id': -97, 'name': 'MEMBEROF_PDmPF', 'source': -41, 'target': -42}}, {'data': {'id': -81, 'name': 'DOWNREGULATES_OGdG', 'source': -34, 'target': -34}}, {'data': {'id': -54, 'name': 'ISA_DiD', 'source': -23, 'target': -23}}, {'data': {'id': -68, 'name': 'ENCODES_GeP', 'source': -34, 'target': -40}}, {'data': {'id': -62, 'name': 'CONTRAINDICATES_CcD', 'source': -29, 'target': -23}}, {'data': {'id': -105, 'name': 'CONTAINS_FcN', 'source': -28, 'target': -36}}, {'data': {'id': -86, 'name': 'DECREASEDIN_PdD', 'source': -40, 'target': -23}}, {'data': {'id': -93, 'name': 'PRODUCES_RpC', 'source': -43, 'target': -29}}, {'data': {'id': -64, 'name': 'LOCALIZES_DlA', 'source': -23, 'target': -25}}, {'data': {'id': -94, 'name': 'CONSUMES_RcC', 'source': -43, 'target': -29}}, {'data': {'id': -63, 'name': 'BINDS_CbP', 'source': -29, 'target': -40}}, {'data': {'id': -106, 'name': 'PRESENTS_GpS', 'source': -34, 'target': -27}}, {'data': {'id': -83, 'name': 'UPREGULATES_KGuG', 'source': -34, 'target': -34}}, {'data': {'id': -66, 'name': 'RESEMBLES_DrD', 'source': -23, 'target': -23}}, {'data': {'id': -80, 'name': 'UPREGULATES_OGuG', 'source': -34, 'target': -34}}, {'data': {'id': -87, 'name': 'CONTAINS_FcC', 'source': -28, 'target': -29}}, {'data': {'id': -103, 'name': 'EXPRESSES_ACTeG', 'source': -30, 'target': -34}}, {'data': {'id': -96, 'name': 'PARTICIPATES_GpPW', 'source': -34, 'target': -38}}, {'data': {'id': -74, 'name': 'UPREGULATES_AuG', 'source': -25, 'target': -34}}, {'data': {'id': -77, 'name': 'UPREGULATES_CuG', 'source': -29, 'target': -34}}]\n"
     ]
    }
   ],
   "source": [
    "END_POINT = \"/api/v1/metagraph\"\n",
    "\n",
    "result = get_api_resp(END_POINT)\n",
    "data_spoke_metagraph = result.json()\n",
    "print(data_spoke_metagraph)"
   ]
  },
  {
   "cell_type": "markdown",
   "id": "cb68849a",
   "metadata": {},
   "source": [
    "# Node information in SPOKE"
   ]
  },
  {
   "cell_type": "code",
   "execution_count": 10,
   "id": "0c2f762b",
   "metadata": {},
   "outputs": [
    {
     "name": "stdout",
     "output_type": "stream",
     "text": [
      "There are a total of 22 node types in SPOKE\n",
      "Node types are : ['Disease', 'DatabaseTimestamp', 'Anatomy', 'EC', 'Symptom', 'Food', 'Compound', 'AnatomyCellType', 'BiologicalProcess', 'CellType', 'CellularComponent', 'Gene', 'MolecularFunction', 'Nutrient', 'Organism', 'Pathway', 'PharmacologicClass', 'Protein', 'ProteinDomain', 'ProteinFamily', 'Reaction', 'SideEffect']\n"
     ]
    }
   ],
   "source": [
    "END_POINT = \"/api/v1/types\"\n",
    "\n",
    "result = get_api_resp(END_POINT)\n",
    "data_spoke_types = result.json()\n",
    "print(\"There are a total of {} node types in SPOKE\".format(len(data_spoke_types[\"nodes\"])))\n",
    "print(\"Node types are :\", list(data_spoke_types[\"nodes\"].keys()))"
   ]
  },
  {
   "cell_type": "markdown",
   "id": "ae7d1ca0",
   "metadata": {},
   "source": [
    "# Edge information in SPOKE"
   ]
  },
  {
   "cell_type": "code",
   "execution_count": 11,
   "id": "33ee609c",
   "metadata": {},
   "outputs": [
    {
     "name": "stdout",
     "output_type": "stream",
     "text": [
      "There are a total of 53 edge types in SPOKE\n",
      "Edge types are : ['ISA_DiD', 'ISA_AiA', 'PARTOF_ApA', 'ISA_ECiEC', 'ISA_OiO', 'ISA_PWiPW', 'AFFECTS_CamG', 'TREATS_CtD', 'CONTRAINDICATES_CcD', 'BINDS_CbP', 'LOCALIZES_DlA', 'PRESENTS_DpS', 'RESEMBLES_DrD', 'ASSOCIATES_DaG', 'ENCODES_GeP', 'CAUSES_CcSE', 'PARTICIPATES_GpBP', 'PARTICIPATES_GpMF', 'PARTICIPATES_GpCC', 'EXPRESSES_AeG', 'UPREGULATES_AuG', 'DOWNREGULATES_AdG', 'DOWNREGULATES_CdG', 'UPREGULATES_CuG', 'DOWNREGULATES_GPdG', 'UPREGULATES_GPuG', 'UPREGULATES_OGuG', 'DOWNREGULATES_OGdG', 'DOWNREGULATES_KGdG', 'UPREGULATES_KGuG', 'CAUSES_OcD', 'INCREASEDIN_PiD', 'DECREASEDIN_PdD', 'CONTAINS_FcC', 'ENCODES_OeP', 'HAS_PhEC', 'INTERACTS_PiP', 'CATALYZES_ECcR', 'TRANSPORTS_PtC', 'PRODUCES_RpC', 'CONSUMES_RcC', 'CLEAVESTO_PctP', 'PARTICIPATES_GpPW', 'MEMBEROF_PDmPF', 'PARTOF_PDpP', 'INTERACTS_PDiPD', 'BINDS_CbPD', 'ISIN_ACTiiA', 'ISIN_ACTiiCT', 'EXPRESSES_ACTeG', 'INCLUDES_PCiC', 'CONTAINS_FcN', 'PRESENTS_GpS']\n"
     ]
    }
   ],
   "source": [
    "print(\"There are a total of {} edge types in SPOKE\".format(len(data_spoke_types[\"edges\"])))\n",
    "print(\"Edge types are :\", list(data_spoke_types[\"edges\"].keys()))"
   ]
  },
  {
   "cell_type": "markdown",
   "id": "52ab1aa6",
   "metadata": {},
   "source": [
    "# Info about a specific node in SPOKE\n",
    "## Here we are checking all the information about the human protein \"TSHR_HUMAN\" in SPOKE"
   ]
  },
  {
   "cell_type": "code",
   "execution_count": 12,
   "id": "11083a5c",
   "metadata": {},
   "outputs": [
    {
     "data": {
      "text/plain": [
       "[{'identifier': 'P16473',\n",
       "  'gene': ['TSHR'],\n",
       "  'description': 'Thyrotropin receptor (Thyroid-stimulating hormone receptor) (TSH-R)',\n",
       "  'org_ncbi_id': '9606',\n",
       "  'source': 'UniProt',\n",
       "  'license': 'CC BY-NC 3.0',\n",
       "  'vestige': False,\n",
       "  'name': 'TSHR_HUMAN',\n",
       "  'reviewed': 'Reviewed, From SwissProt',\n",
       "  'org_name': 'Homo sapiens (Human)',\n",
       "  'chembl_id': 'CHEMBL1963',\n",
       "  'EC': [],\n",
       "  'isoform': ['Name:IsoformLong~FASTA:>SwissProt|P16473|TSHR_HUMAN Thyrotropin receptor OS=Homo sapiens GN=TSHR PE=1 SV=2~FASTA_Source:http://www.uniprot.org/uniprot/P16473.fasta~Is_Canonical:true',\n",
       "   'Name:IsoformShort~FASTA:>SwissProt|P16473-2|TSHR_HUMAN Isoform Isoform Short of Thyrotropin receptor OS=Homo sapiens GN=TSHR~FASTA_Source:http://www.uniprot.org/uniprot/P16473.fasta~Is_Canonical:false',\n",
       "   'Name:Isoform3~FASTA:>SwissProt|P16473-3|TSHR_HUMAN Isoform Isoform 3 of Thyrotropin receptor OS=Homo sapiens GN=TSHR~FASTA_Source:http://www.uniprot.org/uniprot/P16473.fasta~Is_Canonical:false']}]"
      ]
     },
     "execution_count": 12,
     "metadata": {},
     "output_type": "execute_result"
    }
   ],
   "source": [
    "'''\n",
    "To know which attribute for a specific node type to give:\n",
    "    - use the endpoint /api/v1/types. \n",
    "    - in the resulting json, check the values of the key \"queries\" \n",
    "    - it will be a list and find the element of the list that corresponds to the node type you are looking for \n",
    "        and find the attribute of that node type that can be used here.\n",
    "'''\n",
    "node_type = \"Protein\"\n",
    "attribute = \"name\"\n",
    "value = \"TSHR_HUMAN\"\n",
    "END_POINT = \"/api/v1/node/{}/{}/{}\".format(node_type, attribute, value)\n",
    "\n",
    "result = get_api_resp(END_POINT)\n",
    "data_spoke_node_type = result.json()\n",
    "data_spoke_node_type"
   ]
  },
  {
   "cell_type": "markdown",
   "id": "a440de34",
   "metadata": {},
   "source": [
    "# Find the neighbors of a node in SPOKE\n",
    "## Here we are finding the neighbors of human protein \"TSHR_HUMAN\" in SPOKE"
   ]
  },
  {
   "cell_type": "code",
   "execution_count": 13,
   "id": "7256764b",
   "metadata": {
    "scrolled": true
   },
   "outputs": [
    {
     "name": "stdout",
     "output_type": "stream",
     "text": [
      "There are 6 neighbors for this node in SPOKE\n",
      "They are : [{'name': 'ORG-41841', 'node_type': 'Compound'}, {'name': 'THYROTROPIN', 'node_type': 'Compound'}, {'name': 'THYROTROPIN ALFA', 'node_type': 'Compound'}, {'name': 'TSHR', 'node_type': 'Gene'}, {'name': 'Homo sapiens', 'node_type': 'Organism'}, {'name': 'BspA type Leucine rich repeat region (6 copies)', 'node_type': 'ProteinDomain'}]\n"
     ]
    }
   ],
   "source": [
    "'''\n",
    "To know which attribute for a specific node type to give:\n",
    "    - use the endpoint /api/v1/types. \n",
    "    - in the resulting json, check the values of the key \"queries\" \n",
    "    - it will be a list and find the element of the list that corresponds to the node type you are looking for \n",
    "        and find the attribute of that node type that can be used here.\n",
    "'''\n",
    "node_type = \"Protein\"\n",
    "attribute = \"name\"\n",
    "value = \"TSHR_HUMAN\"\n",
    "\n",
    "END_POINT = \"/api/v1/neighborhood/{}/{}/{}\".format(node_type, attribute, value)\n",
    "\n",
    "result = get_api_resp(END_POINT)\n",
    "data_spoke_node_neighbor = result.json()\n",
    "tot_nbr = int(floor((len(data_spoke_node_neighbor)-1)/2))\n",
    "print(\"There are {} neighbors for this node in SPOKE\".format(tot_nbr))\n",
    "nbr_dict_list = []\n",
    "for i in range(tot_nbr):\n",
    "    nbr_dict_list.append({\"name\": data_spoke_node_neighbor[i+1][\"data\"][\"properties\"][\"name\"], \"node_type\":data_spoke_node_neighbor[i+1][\"data\"][\"neo4j_type\"]})\n",
    "print(\"They are :\", nbr_dict_list)"
   ]
  },
  {
   "cell_type": "code",
   "execution_count": null,
   "id": "18fd7dce",
   "metadata": {},
   "outputs": [],
   "source": []
  }
 ],
 "metadata": {
  "kernelspec": {
   "display_name": "Python 3",
   "language": "python",
   "name": "python3"
  },
  "language_info": {
   "codemirror_mode": {
    "name": "ipython",
    "version": 3
   },
   "file_extension": ".py",
   "mimetype": "text/x-python",
   "name": "python",
   "nbconvert_exporter": "python",
   "pygments_lexer": "ipython3",
   "version": "3.6.9"
  }
 },
 "nbformat": 4,
 "nbformat_minor": 5
}
