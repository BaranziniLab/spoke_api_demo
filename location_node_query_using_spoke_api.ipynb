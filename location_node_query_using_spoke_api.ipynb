{
 "cells": [
  {
   "cell_type": "code",
   "execution_count": 13,
   "metadata": {},
   "outputs": [],
   "source": [
    "import requests\n",
    "from math import floor"
   ]
  },
  {
   "cell_type": "code",
   "execution_count": 14,
   "metadata": {},
   "outputs": [],
   "source": [
    "BASE_URI = \"https://spokedev.rbvi.ucsf.edu\"\n"
   ]
  },
  {
   "cell_type": "code",
   "execution_count": 15,
   "metadata": {},
   "outputs": [],
   "source": [
    "def get_api_resp(END_POINT, params=None):\n",
    "    URI = BASE_URI + END_POINT\n",
    "    if params:\n",
    "        return requests.get(URI, params=params)\n",
    "    else:\n",
    "        return requests.get(URI)"
   ]
  },
  {
   "cell_type": "markdown",
   "metadata": {},
   "source": [
    "## Find the Location node corresponding to \"*Barbourville city*\" in SPOKE"
   ]
  },
  {
   "cell_type": "code",
   "execution_count": 16,
   "metadata": {},
   "outputs": [
    {
     "data": {
      "text/plain": [
       "[{'city_fips': '03574',\n",
       "  'identifier': '2103574',\n",
       "  'state_name': 'Kentucky',\n",
       "  'name': 'Barbourville city',\n",
       "  'type': 'City',\n",
       "  'state_fips': '21'}]"
      ]
     },
     "execution_count": 16,
     "metadata": {},
     "output_type": "execute_result"
    }
   ],
   "source": [
    "node_type = \"Location\"\n",
    "attribute = \"identifier\"\n",
    "value = \"2103574\"\n",
    "END_POINT = \"/api/v1/node/{}/{}/{}\".format(node_type, attribute, value)\n",
    "\n",
    "result = get_api_resp(END_POINT)\n",
    "data_spoke_node_type = result.json()\n",
    "data_spoke_node_type"
   ]
  },
  {
   "cell_type": "markdown",
   "metadata": {},
   "source": [
    "## Find the neighboring nodes of \"*Barbourville city*\" in SPOKE"
   ]
  },
  {
   "cell_type": "code",
   "execution_count": 17,
   "metadata": {},
   "outputs": [
    {
     "name": "stdout",
     "output_type": "stream",
     "text": [
      "There are 13 neighbors for this location node in SPOKE\n",
      "They are : [{'name': 'Knox County', 'node_type': 'Location'}, {'name': '40949', 'node_type': 'Location'}, {'name': '40906', 'node_type': 'Location'}, {'name': '40915', 'node_type': 'Location'}, {'name': 'cerebrovascular disease', 'node_type': 'Disease'}, {'name': 'hypertension', 'node_type': 'Disease'}, {'name': 'diabetes mellitus', 'node_type': 'Disease'}, {'name': 'coronary artery disease', 'node_type': 'Disease'}, {'name': 'obesity', 'node_type': 'Disease'}, {'name': 'asthma', 'node_type': 'Disease'}, {'name': 'mental depression', 'node_type': 'Disease'}, {'name': 'arteriosclerosis', 'node_type': 'Disease'}, {'name': 'chronic obstructive pulmonary disease', 'node_type': 'Disease'}]\n"
     ]
    }
   ],
   "source": [
    "node_type = \"Location\"\n",
    "attribute = \"identifier\"\n",
    "value = \"2103574\"\n",
    "\n",
    "END_POINT = \"/api/v1/neighborhood/{}/{}/{}\".format(node_type, attribute, value)\n",
    "result = get_api_resp(END_POINT)\n",
    "data_spoke_node_neighbor = result.json()\n",
    "tot_nbr = int(floor((len(data_spoke_node_neighbor)-1)/2))\n",
    "print(\"There are {} neighbors for this location node in SPOKE\".format(tot_nbr))\n",
    "nbr_dict_list = []\n",
    "for i in range(tot_nbr):\n",
    "    nbr_dict_list.append({\"name\": data_spoke_node_neighbor[i+1][\"data\"][\"properties\"][\"name\"], \"node_type\":data_spoke_node_neighbor[i+1][\"data\"][\"neo4j_type\"]})\n",
    "print(\"They are :\", nbr_dict_list)\n"
   ]
  },
  {
   "cell_type": "code",
   "execution_count": null,
   "metadata": {},
   "outputs": [],
   "source": []
  }
 ],
 "metadata": {
  "kernelspec": {
   "display_name": "Python 3",
   "language": "python",
   "name": "python3"
  },
  "language_info": {
   "codemirror_mode": {
    "name": "ipython",
    "version": 3
   },
   "file_extension": ".py",
   "mimetype": "text/x-python",
   "name": "python",
   "nbconvert_exporter": "python",
   "pygments_lexer": "ipython3",
   "version": "3.6.8"
  }
 },
 "nbformat": 4,
 "nbformat_minor": 4
}
